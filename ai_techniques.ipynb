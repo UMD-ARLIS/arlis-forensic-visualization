{
 "cells": [
  {
   "cell_type": "code",
   "execution_count": null,
   "metadata": {},
   "outputs": [],
   "source": [
    "import plotly.express as px\n",
    "import pandas as pd\n",
    "\n",
    "df = pd.read_csv(\"ai_techniques_2022-07-25.csv\")\n",
    "\n",
    "fig = px.sunburst(df, path=['Severity', 'Near Miss', 'AI Techniques'], \n",
    "                  values = 'incident_id',\n",
    "                  title = 'AI Techniques grouped by Harm Caused and Severity')\n",
    "\n",
    "fig.show()"
   ]
  }
 ],
 "metadata": {
  "kernelspec": {
   "display_name": "Python 3.9.6 64-bit",
   "language": "python",
   "name": "python3"
  },
  "language_info": {
   "codemirror_mode": {
    "name": "ipython",
    "version": 3
   },
   "file_extension": ".py",
   "mimetype": "text/x-python",
   "name": "python",
   "nbconvert_exporter": "python",
   "pygments_lexer": "ipython3",
   "version": "3.9.6"
  },
  "orig_nbformat": 4,
  "vscode": {
   "interpreter": {
    "hash": "d17bf833424ddab7c923ef960edb0c17c142dcf8a8533d02afe51c0c4c530092"
   }
  }
 },
 "nbformat": 4,
 "nbformat_minor": 2
}
